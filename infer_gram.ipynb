{
  "nbformat": 4,
  "nbformat_minor": 0,
  "metadata": {
    "colab": {
      "provenance": [],
      "authorship_tag": "ABX9TyM8dOPIOAq6Zl5nUz5bxxKk",
      "include_colab_link": true
    },
    "kernelspec": {
      "name": "python3",
      "display_name": "Python 3"
    },
    "language_info": {
      "name": "python"
    }
  },
  "cells": [
    {
      "cell_type": "markdown",
      "metadata": {
        "id": "view-in-github",
        "colab_type": "text"
      },
      "source": [
        "<a href=\"https://colab.research.google.com/github/lutfizuchri/Infer-gram/blob/main/infer_gram.ipynb\" target=\"_parent\"><img src=\"https://colab.research.google.com/assets/colab-badge.svg\" alt=\"Open In Colab\"/></a>"
      ]
    },
    {
      "cell_type": "code",
      "source": [
        "\n",
        "!pip install Pyphen\n",
        "\n",
        "import pyphen\n",
        "dic = pyphen.Pyphen(lang='id')\n",
        "\n",
        "with open('kbbi.txt', 'r') as infile, open('kbbi-split.txt', 'w') as outfile:\n",
        "  for line in infile:\n",
        "    word = line.strip()\n",
        "    split_word = dic.inserted(word)\n",
        "    outfile.write(split_word + '\\n')\n"
      ],
      "metadata": {
        "colab": {
          "base_uri": "https://localhost:8080/"
        },
        "id": "t83zwm3IlMUe",
        "outputId": "2dc2d5bf-e0f4-4988-d0ce-4a2741db846a"
      },
      "execution_count": 5,
      "outputs": [
        {
          "output_type": "stream",
          "name": "stdout",
          "text": [
            "Requirement already satisfied: Pyphen in /usr/local/lib/python3.10/dist-packages (0.15.0)\n"
          ]
        }
      ]
    },
    {
      "cell_type": "code",
      "source": [
        "\n",
        "from collections import Counter\n",
        "\n",
        "with open('kbbi-split.txt', 'r') as infile:\n",
        "  split_parts = [part for line in infile for part in line.strip().split('-')]\n",
        "\n",
        "frequency = Counter(split_parts)\n",
        "\n",
        "with open('morpheme.txt', 'w') as outfile:\n",
        "  for part, count in frequency.most_common():\n",
        "    outfile.write(f\"{part}\\t{count}\\n\")\n"
      ],
      "metadata": {
        "id": "RPMcUc72rTky"
      },
      "execution_count": 7,
      "outputs": []
    },
    {
      "cell_type": "code",
      "source": [
        "\n",
        "from collections import defaultdict\n",
        "\n",
        "pair_counts = defaultdict(int)\n",
        "\n",
        "with open('kbbi-split.txt', 'r') as infile:\n",
        "  for line in infile:\n",
        "    parts = line.strip().split('-')\n",
        "    for i in range(len(parts) - 1):\n",
        "      pair = (parts[i], parts[i + 1])\n",
        "      pair_counts[pair] += 1\n",
        "\n",
        "sorted_pairs = sorted(pair_counts.items(), key=lambda item: item[1], reverse=True)\n",
        "\n",
        "for (part1, part2), count in sorted_pairs[:20]:\n",
        "  print(f\"({part1}, {part2}): {count}\")\n"
      ],
      "metadata": {
        "colab": {
          "base_uri": "https://localhost:8080/"
        },
        "id": "SkIcw6uPs_sh",
        "outputId": "b37a9314-c2c1-45ff-962e-a5b572201f39"
      },
      "execution_count": 9,
      "outputs": [
        {
          "output_type": "stream",
          "name": "stdout",
          "text": [
            "(meng, a): 455\n",
            "(sa, si): 443\n",
            "(fo, bia): 439\n",
            "(mem, per): 437\n",
            "(lo, gi): 427\n",
            "(si, o): 403\n",
            "(me, nge): 402\n",
            "(me, nye): 393\n",
            "(r, i): 378\n",
            "( , bu): 333\n",
            "(me, ter): 320\n",
            "(me, na): 302\n",
            "(ber, ke): 291\n",
            "(po, li): 288\n",
            "(ka, si): 287\n",
            "(peng, a): 281\n",
            "(ra, si): 274\n",
            "(o, lo): 273\n",
            "(r, o): 262\n",
            "(meng, ge): 261\n"
          ]
        }
      ]
    },
    {
      "cell_type": "code",
      "source": [
        "\n",
        "triple_counts = defaultdict(int)\n",
        "\n",
        "with open('kbbi-split.txt', 'r') as infile:\n",
        "  for line in infile:\n",
        "    parts = line.strip().split('-')\n",
        "    for i in range(len(parts) - 2):\n",
        "      triple = (parts[i], parts[i + 1], parts[i + 2])\n",
        "      triple_counts[triple] += 1\n",
        "\n",
        "sorted_triples = sorted(triple_counts.items(), key=lambda item: item[1], reverse=True)\n",
        "\n",
        "for (part1, part2, part3), count in sorted_triples[:20]:\n",
        "  print(f\"({part1}, {part2}, {part3}): {count}\")\n"
      ],
      "metadata": {
        "colab": {
          "base_uri": "https://localhost:8080/"
        },
        "id": "GZI1JDCRt0Gn",
        "outputId": "56665446-a3a3-42ea-eab3-03b7a74bddac"
      },
      "execution_count": 10,
      "outputs": [
        {
          "output_type": "stream",
          "name": "stdout",
          "text": [
            "(si, o, nal): 217\n",
            "(li, sa, si): 182\n",
            "(o, lo, gi): 145\n",
            "(fi, ka, si): 126\n",
            "(te, o, r): 116\n",
            "(mi, k, ro): 114\n",
            "(bi, li, tas): 88\n",
            "(da, e, rah): 87\n",
            "(to, r, i): 77\n",
            "(ne, ga, ra): 71\n",
            "(o, fo, bia): 69\n",
            "(te, a, ter): 69\n",
            "(bu, da, ya): 67\n",
            "(ni, sa, si): 67\n",
            "(ti, vi, tas): 66\n",
            "(to, lo, gi): 61\n",
            "(no, lo, gi): 61\n",
            "(ana, li, sis): 60\n",
            "(sya, ra, k): 59\n",
            "(te, r, o): 59\n"
          ]
        }
      ]
    }
  ]
}
